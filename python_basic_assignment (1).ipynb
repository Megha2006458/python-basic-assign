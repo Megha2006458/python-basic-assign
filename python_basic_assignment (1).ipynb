{
  "nbformat": 4,
  "nbformat_minor": 0,
  "metadata": {
    "colab": {
      "provenance": []
    },
    "kernelspec": {
      "name": "python3",
      "display_name": "Python 3"
    },
    "language_info": {
      "name": "python"
    }
  },
  "cells": [
    {
      "cell_type": "code",
      "execution_count": null,
      "metadata": {
        "id": "8v8G__lM1UbM"
      },
      "outputs": [],
      "source": []
    },
    {
      "cell_type": "markdown",
      "source": [
        "Q1. what is python, and why it is popular?\n",
        "Ans. Python is a high level programming language.\n",
        "     It is popular because it is easy to learn, it has simple syntax,\n",
        "     it used in most of the industries, it has a lot of library and\n",
        "     huge active community.\n",
        "\n",
        "Q2.  What is an interpreter in python?\n",
        "ans. An interpreter is a program that reads and executes python code line by\n",
        "     line. It is a computer program that converts each high level program statement into machine code.\n",
        "\n",
        "Q3.  What are predefined keywords in python?\n",
        "ans. keywords are predefined words that hold a special meaning and specific\n",
        "     purpose in python.\n",
        "\n",
        "Q4.  Can keywords be used as a variable names?\n",
        "ans. No, keywords cannot be used as a variable name.\n",
        "\n",
        "Q5.  What is mutability in Python?\n",
        "ans. Mutability means to assign a value to another value. Means to change       \n",
        "     something.\n",
        "\n",
        "Q6.   Why lists are mutable, but tuples are immutable?\n",
        "      lists are mutables because their content can be changed after creation, while tuples are immutable becuase their we cannot change the content in the list.\n",
        "\n",
        "Q7.   What is the difference between == and 'is' operator in python?\n",
        "ans.   In python '==' operator and the 'is' both compares the objects, but they\n",
        "       do so in different ways. '==' checks for equality of value, while 'is' checks for identity.\n",
        "\n",
        "Q8.     What are logical operators in python?\n",
        "ans.    logical operators in python are and, or, and not. these are also known\n",
        "        as boolean operator.\n",
        "\n",
        "Q9.     What is type casting in python?\n",
        "ans.    Type casting is nothing but converting a one datatype to another data  \n",
        "        type.\n",
        "\n",
        "Q10.    What is the difference between implicit and explicit type casting?\n",
        "ans.    Implicit typecasting generally involves converting smaller data types to\n",
        "        largeer ones, while explicit casting often involves converting larger data types to smaller ones, potentially leading to data loss.\n",
        "\n",
        "Q11.    What is purpose of conditional statement in python?\n",
        "ans.    The purpose of conditional statement in python is to make decesion base\n",
        "        on the condition by yourself. The types of conditional statement are if,\n",
        "        if else, if else if, and nested if.\n",
        "\n",
        "Q12.    How does the elif statement work?\n",
        "ans.    The elif statement is used to check multiple condition in a sequence.\n",
        "\n",
        "\n",
        "Q13.    What is the difference between while and for loop?\n",
        "ans.    For loop is used to iterate over a sequence of items. while loop is  \n",
        "        used to repeatedly execute a block of statement while a condition is true.\n",
        "\n",
        "Q14.    Describe a scenario where a while loop is more suitable than a for loop?\n",
        "ans.    In programming language, for loops are best used when you know the      \n",
        "        number of iterations ahead of time, whereas a while loop is used when you dont know the number of iteration in advanced.\n"
      ],
      "metadata": {
        "id": "-qcQ0yLh1WaB"
      }
    },
    {
      "cell_type": "code",
      "source": [],
      "metadata": {
        "id": "a3wbQZqL4fLj"
      },
      "execution_count": null,
      "outputs": []
    },
    {
      "cell_type": "markdown",
      "source": [
        "                                                  **Practical Question**\n",
        "\n",
        "  Q1. write python program to print \"hello, world!\"\n",
        "  \n",
        "                                                  \n",
        "\n",
        "                                                \n",
        "\n",
        "\n"
      ],
      "metadata": {
        "id": "XXmB4uf2Jmdw"
      }
    },
    {
      "cell_type": "code",
      "source": [
        "print(\"helllo, world!\")"
      ],
      "metadata": {
        "colab": {
          "base_uri": "https://localhost:8080/"
        },
        "id": "UmS0LSPwKNAN",
        "outputId": "31298bb7-025c-4015-8d77-2d785a915e0b"
      },
      "execution_count": null,
      "outputs": [
        {
          "output_type": "stream",
          "name": "stdout",
          "text": [
            "helllo, world!\n"
          ]
        }
      ]
    },
    {
      "cell_type": "code",
      "source": [],
      "metadata": {
        "id": "EZ343NyUJzVB"
      },
      "execution_count": null,
      "outputs": []
    },
    {
      "cell_type": "markdown",
      "source": [
        "Q2. write a python program that displays your name and age."
      ],
      "metadata": {
        "id": "eMC--u3pKgfH"
      }
    },
    {
      "cell_type": "code",
      "source": [
        "print('name-Megha batham')\n",
        "print('Age-18')"
      ],
      "metadata": {
        "colab": {
          "base_uri": "https://localhost:8080/"
        },
        "id": "HDIlKmPXKsro",
        "outputId": "6f09de95-0c28-4e55-f773-c73d2a0a352f"
      },
      "execution_count": null,
      "outputs": [
        {
          "output_type": "stream",
          "name": "stdout",
          "text": [
            "name-Megha batham\n",
            "Age-18\n"
          ]
        }
      ]
    },
    {
      "cell_type": "markdown",
      "source": [
        "Q3. Write code to print all the predefined keywords in python."
      ],
      "metadata": {
        "id": "zclVfzfgLM_x"
      }
    },
    {
      "cell_type": "code",
      "source": [
        "help('keywords')"
      ],
      "metadata": {
        "colab": {
          "base_uri": "https://localhost:8080/"
        },
        "id": "ClZv4PzYLhmv",
        "outputId": "7da1aa3f-a41f-42ae-cf16-366c8879182d"
      },
      "execution_count": null,
      "outputs": [
        {
          "output_type": "stream",
          "name": "stdout",
          "text": [
            "\n",
            "Here is a list of the Python keywords.  Enter any keyword to get more help.\n",
            "\n",
            "False               class               from                or\n",
            "None                continue            global              pass\n",
            "True                def                 if                  raise\n",
            "and                 del                 import              return\n",
            "as                  elif                in                  try\n",
            "assert              else                is                  while\n",
            "async               except              lambda              with\n",
            "await               finally             nonlocal            yield\n",
            "break               for                 not                 \n",
            "\n"
          ]
        }
      ]
    },
    {
      "cell_type": "markdown",
      "source": [
        "Q4. Write a program that checks if a given word is a python keyword."
      ],
      "metadata": {
        "id": "dormTjADLobQ"
      }
    },
    {
      "cell_type": "code",
      "source": [
        "import keyword\n",
        "\n",
        "word = input(\"Enter a word to check:\")\n",
        "\n",
        "if keyword.iskeyword(word):\n",
        "  print(f\"'{word}' is  a python keyword.\")\n",
        "else:\n",
        "  print(f\"'{word}' is NOT a Python keyword.\")"
      ],
      "metadata": {
        "colab": {
          "base_uri": "https://localhost:8080/"
        },
        "id": "Wllu0blzzBj-",
        "outputId": "458655a5-4ef6-4b5c-93f5-642681749feb"
      },
      "execution_count": null,
      "outputs": [
        {
          "output_type": "stream",
          "name": "stdout",
          "text": [
            "Enter a word to check:hello\n",
            "'hello' is NOT a Python keyword.\n"
          ]
        }
      ]
    },
    {
      "cell_type": "markdown",
      "source": [
        "Q5. Create a list and tuple in python, and demonstrate how attempting to change an element?\n"
      ],
      "metadata": {
        "id": "FZnszGTJOebH"
      }
    },
    {
      "cell_type": "markdown",
      "source": [],
      "metadata": {
        "id": "kJurVzUbXacu"
      }
    },
    {
      "cell_type": "code",
      "source": [
        "my_list = [10, 20, 30, 40]\n",
        "my_tuple = (10, 20, 30, 40)\n",
        "\n",
        "my_list[1] = 25\n",
        "print(\"updated list:\", my_list)\n",
        "\n",
        "print(\"Tuple remains same:\", my_tuple)"
      ],
      "metadata": {
        "colab": {
          "base_uri": "https://localhost:8080/"
        },
        "id": "RU5iiWwnPBRk",
        "outputId": "eb2befdc-14c5-461e-c488-4b3bf6fc67d6"
      },
      "execution_count": null,
      "outputs": [
        {
          "output_type": "stream",
          "name": "stdout",
          "text": [
            "updated list: [10, 25, 30, 40]\n",
            "Tuple remains same: (10, 20, 30, 40)\n"
          ]
        }
      ]
    },
    {
      "cell_type": "markdown",
      "source": [
        "Q6. Write a program that perform basic arithmatic operations on two user input numbers."
      ],
      "metadata": {
        "id": "rHkzZWEXSMxN"
      }
    },
    {
      "cell_type": "code",
      "source": [
        "num1= float(input('enter the first number:'))\n",
        "num2= float(input('enter the second number:'))\n",
        "if num2 != 0:\n",
        "  division = num1/num2\n",
        "else:\n",
        "  division='undefined'\n",
        "print('/nResults:')\n",
        "print('Addition:', num1 + num2)\n",
        "print('substraction:', num1 - num2)\n",
        "print('multiplication:', num1 * num2)\n",
        "print('division:', division)\n"
      ],
      "metadata": {
        "colab": {
          "base_uri": "https://localhost:8080/"
        },
        "id": "4rhND2VISmS8",
        "outputId": "20bd68fd-b948-4be0-e682-13dc22b0d666"
      },
      "execution_count": null,
      "outputs": [
        {
          "output_type": "stream",
          "name": "stdout",
          "text": [
            "enter the first number:5\n",
            "enter the second number:7\n",
            "/nResults:\n",
            "Addition: 12.0\n",
            "substraction: -2.0\n",
            "multiplication: 35.0\n",
            "division: 0.7142857142857143\n"
          ]
        }
      ]
    },
    {
      "cell_type": "markdown",
      "source": [
        "Q7. Write a program to demonstrate the use of logical operators."
      ],
      "metadata": {
        "id": "CMLJQu8kU8O0"
      }
    },
    {
      "cell_type": "code",
      "source": [
        "a= int(input('Enter first number:'))\n",
        "b= int(input('enter second number:'))\n",
        "print(\"/nlogical And:\")\n",
        "print(\"a>0 or b>0:\", a > 0 or b > 0)\n",
        "\n",
        "print(\"/nLogical OR:\")\n",
        "print(\"a > 0 or b > 0:\", a > 0 or b > 0)\n",
        "\n",
        "print(\"/nlogical NOT:\")\n",
        "print(\"not (a>0):\", not (a > 0))\n"
      ],
      "metadata": {
        "colab": {
          "base_uri": "https://localhost:8080/"
        },
        "id": "QfQv-4RlXzNd",
        "outputId": "7f959eed-c672-4644-a0b9-6c89d095907e"
      },
      "execution_count": null,
      "outputs": [
        {
          "output_type": "stream",
          "name": "stdout",
          "text": [
            "Enter first number:7\n",
            "enter second number:8\n",
            "/nlogical And:\n",
            "a>0 or b>0: True\n",
            "/nLogical OR:\n",
            "a > 0 or b > 0: True\n",
            "/nlogical NOT:\n",
            "not (a>0): False\n"
          ]
        }
      ]
    },
    {
      "cell_type": "markdown",
      "source": [
        "Q8. Write a python program to convert user input from string to integer, float and bool."
      ],
      "metadata": {
        "id": "wYRi-PFKaBhe"
      }
    },
    {
      "cell_type": "code",
      "source": [
        "user_input = input('enter a value:')\n",
        "\n",
        "try:\n",
        "  int_value = int(user_input)\n",
        "  print('integer value:', int_value)\n",
        "except ValueError:\n",
        "  print('cannot convert to integer.')\n",
        "\n",
        "try:\n",
        "  float_value = float(user_input)\n",
        "  print('float value:', float_value)\n",
        "except ValueError:\n",
        "  print('cannot convert to float.')\n",
        "\n",
        "bool_value = bool(user_input)\n",
        "print('boolean value:', bool_value)"
      ],
      "metadata": {
        "colab": {
          "base_uri": "https://localhost:8080/"
        },
        "id": "SdRNI41RaVw9",
        "outputId": "87864d8d-29fe-4982-f564-f914c481b609"
      },
      "execution_count": null,
      "outputs": [
        {
          "output_type": "stream",
          "name": "stdout",
          "text": [
            "enter a value:78\n",
            "integer value: 78\n",
            "float value: 78.0\n",
            "boolean value: True\n"
          ]
        }
      ]
    },
    {
      "cell_type": "markdown",
      "source": [
        "Q9. Write code to demonstrate type casting with list elements."
      ],
      "metadata": {
        "id": "xs3CxwgnpHKs"
      }
    },
    {
      "cell_type": "code",
      "source": [
        "str_list = ['10', '20', '30', '40']\n",
        "\n",
        "int_list = [int(item) for item in str_list]\n",
        "print(\"Integer list:\", int_list)\n",
        "\n",
        "float_list = [float(item) for item in int_list]\n",
        "print(\"Float list:\", float_list)\n",
        "\n",
        "bool_list = [bool(item) for item in int_list]\n",
        "print(\"Boolean list:\", bool_list)\n",
        "\n",
        "str_again = [str(item) for item in int_list]\n",
        "print(\"back to string list:\", str_again)"
      ],
      "metadata": {
        "colab": {
          "base_uri": "https://localhost:8080/"
        },
        "id": "fSkfS72ipklI",
        "outputId": "6429e688-a9ba-4a19-8cf9-37347e92eae1"
      },
      "execution_count": null,
      "outputs": [
        {
          "output_type": "stream",
          "name": "stdout",
          "text": [
            "Integer list: [10, 20, 30, 40]\n",
            "Float list: [10.0, 20.0, 30.0, 40.0]\n",
            "Boolean list: [True, True, True, True]\n",
            "back to string list: ['10', '20', '30', '40']\n"
          ]
        }
      ]
    },
    {
      "cell_type": "markdown",
      "source": [
        "Q10. Write a program to check if a number is positive, negative or zero."
      ],
      "metadata": {
        "id": "2CU5jGfK0VUQ"
      }
    },
    {
      "cell_type": "code",
      "source": [
        "num = float(input(\"enter a number: \"))\n",
        "\n",
        "if num > 0:\n",
        "  print(\"the number is positive.\")\n",
        "elif num < 0:\n",
        "  print(\"the number is negative.\")\n",
        "else:\n",
        "  print(\"The number is zero.\")"
      ],
      "metadata": {
        "colab": {
          "base_uri": "https://localhost:8080/"
        },
        "id": "KG8iCwO902yu",
        "outputId": "106b18c9-f370-417d-ffb7-042fde28d6cc"
      },
      "execution_count": null,
      "outputs": [
        {
          "output_type": "stream",
          "name": "stdout",
          "text": [
            "enter a number: 78\n",
            "the number is positive.\n"
          ]
        }
      ]
    },
    {
      "cell_type": "markdown",
      "source": [
        "Q11. Write a for loop to print 1 to 10."
      ],
      "metadata": {
        "id": "9srDQeME1vTw"
      }
    },
    {
      "cell_type": "code",
      "source": [
        "for i in range(1,11):\n",
        "  print(i)"
      ],
      "metadata": {
        "colab": {
          "base_uri": "https://localhost:8080/"
        },
        "id": "I1WE_dq42AqB",
        "outputId": "e0077399-8229-4f14-f8f5-2b5e0ab78d0a"
      },
      "execution_count": null,
      "outputs": [
        {
          "output_type": "stream",
          "name": "stdout",
          "text": [
            "1\n",
            "2\n",
            "3\n",
            "4\n",
            "5\n",
            "6\n",
            "7\n",
            "8\n",
            "9\n",
            "10\n"
          ]
        }
      ]
    },
    {
      "cell_type": "markdown",
      "source": [
        "Q12. Write a python program to find the sum of all even numbers between 1 to 50."
      ],
      "metadata": {
        "id": "yx1FMj_F2oXt"
      }
    },
    {
      "cell_type": "code",
      "source": [
        "even_sum = 0\n",
        "\n",
        "for i in range(1,51):\n",
        "  if i % 2 == 0:\n",
        "    even_sum += i\n",
        "\n",
        "print(\"Sum of even numbera from 1 to 50 is:\", even_sum)"
      ],
      "metadata": {
        "colab": {
          "base_uri": "https://localhost:8080/"
        },
        "id": "ui2YVj--3J6l",
        "outputId": "eaf1839e-723e-447e-fb76-a40a3fa831bd"
      },
      "execution_count": null,
      "outputs": [
        {
          "output_type": "stream",
          "name": "stdout",
          "text": [
            "Sum of even numbera from 1 to 50 is: 650\n"
          ]
        }
      ]
    },
    {
      "cell_type": "markdown",
      "source": [
        "Q13. Write a program to reverse a string using a while loop."
      ],
      "metadata": {
        "id": "xyKyGr055BBJ"
      }
    },
    {
      "cell_type": "code",
      "source": [
        "text = input (\"Enter a string: \")\n",
        "\n",
        "reversed_text = \"\"\n",
        "index = len(text) - 1\n",
        "\n",
        "while index >= 0:\n",
        "  reversed_text += text[index]\n",
        "  index -= 1\n",
        "\n",
        "print(\"Reversed string:\", reversed_text)"
      ],
      "metadata": {
        "colab": {
          "base_uri": "https://localhost:8080/"
        },
        "id": "5PjAzQxG5YEm",
        "outputId": "9c6cda8f-5c09-48ee-8a1a-41c8de506480"
      },
      "execution_count": null,
      "outputs": [
        {
          "output_type": "stream",
          "name": "stdout",
          "text": [
            "Enter a string: hello\n",
            "Reversed string: olleh\n"
          ]
        }
      ]
    },
    {
      "cell_type": "markdown",
      "source": [
        "Q14. Write a python program to calculate the factorial of a number provided by the user using a while loop."
      ],
      "metadata": {
        "id": "d2UJF_0m7sAW"
      }
    },
    {
      "cell_type": "code",
      "source": [
        "num= int(input(\"Enter a number: \"))\n",
        "\n",
        "factorial = 1\n",
        "i = 1\n",
        "\n",
        "if num < 0:\n",
        "  print(\"Factorial is not defined for negative integer.\")\n",
        "else:\n",
        "  while i <= num:\n",
        "    factorial *=i\n",
        "    i += 1\n",
        "  print(f\"Factorial of {num} is: {factorial}\")"
      ],
      "metadata": {
        "colab": {
          "base_uri": "https://localhost:8080/"
        },
        "id": "oITLvaQg8GKb",
        "outputId": "d5c576c6-8cfc-4f94-f6f7-762d14211809"
      },
      "execution_count": null,
      "outputs": [
        {
          "output_type": "stream",
          "name": "stdout",
          "text": [
            "Enter a number: 9\n",
            "Factorial of 9 is: 362880\n"
          ]
        }
      ]
    }
  ]
}